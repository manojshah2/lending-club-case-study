{
 "cells": [
  {
   "cell_type": "markdown",
   "id": "90551368-6cee-4dca-8ef5-5f845b431f90",
   "metadata": {},
   "source": [
    "## Lending Case Study"
   ]
  },
  {
   "cell_type": "code",
   "execution_count": 1,
   "id": "3557a82b-cad2-4d14-965d-bd30a8005662",
   "metadata": {},
   "outputs": [],
   "source": [
    "# Importing the required libraries\n",
    "\n",
    "import pandas as pd\n",
    "import numpy as np\n",
    "import warnings\n",
    "\n",
    "import re\n",
    "import matplotlib.pyplot as plt\n",
    "import seaborn as sns\n",
    "warnings.simplefilter(\"ignore\")"
   ]
  },
  {
   "cell_type": "code",
   "execution_count": 2,
   "id": "dde3af3e-271c-4031-8950-f20cf6a9777b",
   "metadata": {},
   "outputs": [],
   "source": [
    "# Read the file\n",
    "df = pd.read_csv(\"loan.csv\")"
   ]
  },
  {
   "cell_type": "code",
   "execution_count": 3,
   "id": "34dc18a8-4355-42ef-8918-2fa665fabdc8",
   "metadata": {},
   "outputs": [
    {
     "name": "stdout",
     "output_type": "stream",
     "text": [
      "<class 'pandas.core.frame.DataFrame'>\n",
      "RangeIndex: 39717 entries, 0 to 39716\n",
      "Columns: 111 entries, id to total_il_high_credit_limit\n",
      "dtypes: float64(74), int64(13), object(24)\n",
      "memory usage: 33.6+ MB\n"
     ]
    }
   ],
   "source": [
    "# checking columns and data types\n",
    "df.info()"
   ]
  },
  {
   "cell_type": "code",
   "execution_count": 4,
   "id": "99b98813-31eb-4156-b15c-8b785a89e8a5",
   "metadata": {},
   "outputs": [
    {
     "data": {
      "text/plain": [
       "verification_status_joint         100.0\n",
       "annual_inc_joint                  100.0\n",
       "mo_sin_old_rev_tl_op              100.0\n",
       "mo_sin_old_il_acct                100.0\n",
       "bc_util                           100.0\n",
       "bc_open_to_buy                    100.0\n",
       "avg_cur_bal                       100.0\n",
       "acc_open_past_24mths              100.0\n",
       "inq_last_12m                      100.0\n",
       "total_cu_tl                       100.0\n",
       "inq_fi                            100.0\n",
       "total_rev_hi_lim                  100.0\n",
       "all_util                          100.0\n",
       "max_bal_bc                        100.0\n",
       "open_rv_24m                       100.0\n",
       "open_rv_12m                       100.0\n",
       "il_util                           100.0\n",
       "total_bal_il                      100.0\n",
       "mths_since_rcnt_il                100.0\n",
       "open_il_24m                       100.0\n",
       "open_il_12m                       100.0\n",
       "open_il_6m                        100.0\n",
       "open_acc_6m                       100.0\n",
       "tot_cur_bal                       100.0\n",
       "tot_coll_amt                      100.0\n",
       "mo_sin_rcnt_rev_tl_op             100.0\n",
       "mo_sin_rcnt_tl                    100.0\n",
       "mort_acc                          100.0\n",
       "num_rev_tl_bal_gt_0               100.0\n",
       "total_bc_limit                    100.0\n",
       "total_bal_ex_mort                 100.0\n",
       "tot_hi_cred_lim                   100.0\n",
       "percent_bc_gt_75                  100.0\n",
       "pct_tl_nvr_dlq                    100.0\n",
       "num_tl_op_past_12m                100.0\n",
       "num_tl_90g_dpd_24m                100.0\n",
       "num_tl_30dpd                      100.0\n",
       "num_tl_120dpd_2m                  100.0\n",
       "num_sats                          100.0\n",
       "num_rev_accts                     100.0\n",
       "mths_since_recent_bc              100.0\n",
       "num_op_rev_tl                     100.0\n",
       "num_il_tl                         100.0\n",
       "num_bc_tl                         100.0\n",
       "num_bc_sats                       100.0\n",
       "num_actv_rev_tl                   100.0\n",
       "num_actv_bc_tl                    100.0\n",
       "num_accts_ever_120_pd             100.0\n",
       "mths_since_recent_revol_delinq    100.0\n",
       "mths_since_recent_inq             100.0\n",
       "dtype: float64"
      ]
     },
     "execution_count": 4,
     "metadata": {},
     "output_type": "execute_result"
    }
   ],
   "source": [
    "# Finding the percentage of null values in columns\n",
    "(100*df.isnull().mean()).sort_values(ascending=False).head(50)"
   ]
  },
  {
   "cell_type": "code",
   "execution_count": 5,
   "id": "a1294059-d9f7-4050-8f00-449090549b93",
   "metadata": {},
   "outputs": [],
   "source": [
    "# Removing the columns which have complete blank values\n",
    "df.dropna(how='all', axis=1, inplace=True) "
   ]
  },
  {
   "cell_type": "code",
   "execution_count": 6,
   "id": "6b30d02a-3b2a-46a6-9c08-33b0a6dbf260",
   "metadata": {},
   "outputs": [
    {
     "data": {
      "text/plain": [
       "next_pymnt_d                  97.129693\n",
       "mths_since_last_record        92.985372\n",
       "mths_since_last_delinq        64.662487\n",
       "desc                          32.585543\n",
       "emp_title                      6.191303\n",
       "emp_length                     2.706650\n",
       "pub_rec_bankruptcies           1.754916\n",
       "last_pymnt_d                   0.178765\n",
       "chargeoff_within_12_mths       0.140998\n",
       "collections_12_mths_ex_med     0.140998\n",
       "revol_util                     0.125891\n",
       "tax_liens                      0.098195\n",
       "title                          0.027696\n",
       "last_credit_pull_d             0.005036\n",
       "home_ownership                 0.000000\n",
       "int_rate                       0.000000\n",
       "out_prncp_inv                  0.000000\n",
       "total_pymnt                    0.000000\n",
       "total_pymnt_inv                0.000000\n",
       "total_rec_prncp                0.000000\n",
       "total_rec_int                  0.000000\n",
       "total_rec_late_fee             0.000000\n",
       "recoveries                     0.000000\n",
       "collection_recovery_fee        0.000000\n",
       "term                           0.000000\n",
       "last_pymnt_amnt                0.000000\n",
       "initial_list_status            0.000000\n",
       "funded_amnt_inv                0.000000\n",
       "policy_code                    0.000000\n",
       "application_type               0.000000\n",
       "acc_now_delinq                 0.000000\n",
       "funded_amnt                    0.000000\n",
       "delinq_amnt                    0.000000\n",
       "loan_amnt                      0.000000\n",
       "out_prncp                      0.000000\n",
       "total_acc                      0.000000\n",
       "annual_inc                     0.000000\n",
       "addr_state                     0.000000\n",
       "verification_status            0.000000\n",
       "issue_d                        0.000000\n",
       "loan_status                    0.000000\n",
       "pymnt_plan                     0.000000\n",
       "url                            0.000000\n",
       "sub_grade                      0.000000\n",
       "purpose                        0.000000\n",
       "zip_code                       0.000000\n",
       "dti                            0.000000\n",
       "installment                    0.000000\n",
       "delinq_2yrs                    0.000000\n",
       "earliest_cr_line               0.000000\n",
       "dtype: float64"
      ]
     },
     "execution_count": 6,
     "metadata": {},
     "output_type": "execute_result"
    }
   ],
   "source": [
    "(100*df.isnull().mean()).sort_values(ascending=False).head(50)"
   ]
  },
  {
   "cell_type": "code",
   "execution_count": 7,
   "id": "cdb4ce6c-ce85-4ea9-9053-24c888bcae99",
   "metadata": {},
   "outputs": [
    {
     "data": {
      "text/plain": [
       "tax_liens                         1\n",
       "delinq_amnt                       1\n",
       "chargeoff_within_12_mths          1\n",
       "acc_now_delinq                    1\n",
       "application_type                  1\n",
       "policy_code                       1\n",
       "collections_12_mths_ex_med        1\n",
       "pymnt_plan                        1\n",
       "initial_list_status               1\n",
       "term                              2\n",
       "next_pymnt_d                      2\n",
       "pub_rec_bankruptcies              3\n",
       "loan_status                       3\n",
       "verification_status               3\n",
       "pub_rec                           5\n",
       "home_ownership                    5\n",
       "grade                             7\n",
       "inq_last_6mths                    9\n",
       "emp_length                       11\n",
       "delinq_2yrs                      11\n",
       "purpose                          14\n",
       "sub_grade                        35\n",
       "open_acc                         40\n",
       "addr_state                       50\n",
       "issue_d                          55\n",
       "total_acc                        82\n",
       "mths_since_last_delinq           95\n",
       "last_pymnt_d                    101\n",
       "last_credit_pull_d              106\n",
       "mths_since_last_record          111\n",
       "int_rate                        371\n",
       "earliest_cr_line                526\n",
       "zip_code                        823\n",
       "loan_amnt                       885\n",
       "funded_amnt                    1041\n",
       "revol_util                     1089\n",
       "out_prncp                      1137\n",
       "out_prncp_inv                  1138\n",
       "total_rec_late_fee             1356\n",
       "collection_recovery_fee        2616\n",
       "dti                            2868\n",
       "recoveries                     4040\n",
       "annual_inc                     5318\n",
       "total_rec_prncp                7976\n",
       "funded_amnt_inv                8205\n",
       "installment                   15383\n",
       "title                         19615\n",
       "revol_bal                     21711\n",
       "desc                          26526\n",
       "emp_title                     28820\n",
       "last_pymnt_amnt               34930\n",
       "total_rec_int                 35148\n",
       "total_pymnt_inv               37518\n",
       "total_pymnt                   37850\n",
       "url                           39717\n",
       "member_id                     39717\n",
       "id                            39717\n",
       "dtype: int64"
      ]
     },
     "execution_count": 7,
     "metadata": {},
     "output_type": "execute_result"
    }
   ],
   "source": [
    "# We can remove columns having single value only, as it will not add any value to our data.\n",
    "df.nunique().sort_values()"
   ]
  },
  {
   "cell_type": "code",
   "execution_count": 8,
   "id": "f6039ad2-1f32-48fe-843b-e5c79e2229ba",
   "metadata": {},
   "outputs": [],
   "source": [
    "# Removing columns having sinle value only.\n",
    "df = df.loc[:,df.nunique()>1]"
   ]
  },
  {
   "cell_type": "code",
   "execution_count": 9,
   "id": "640a481f-f262-4dda-aed5-cd25e1b5b898",
   "metadata": {},
   "outputs": [
    {
     "data": {
      "text/plain": [
       "next_pymnt_d               97.129693\n",
       "mths_since_last_record     92.985372\n",
       "mths_since_last_delinq     64.662487\n",
       "desc                       32.585543\n",
       "emp_title                   6.191303\n",
       "emp_length                  2.706650\n",
       "pub_rec_bankruptcies        1.754916\n",
       "last_pymnt_d                0.178765\n",
       "revol_util                  0.125891\n",
       "title                       0.027696\n",
       "last_credit_pull_d          0.005036\n",
       "recoveries                  0.000000\n",
       "total_acc                   0.000000\n",
       "open_acc                    0.000000\n",
       "pub_rec                     0.000000\n",
       "revol_bal                   0.000000\n",
       "last_pymnt_amnt             0.000000\n",
       "out_prncp                   0.000000\n",
       "total_rec_late_fee          0.000000\n",
       "out_prncp_inv               0.000000\n",
       "total_pymnt                 0.000000\n",
       "inq_last_6mths              0.000000\n",
       "total_rec_prncp             0.000000\n",
       "collection_recovery_fee     0.000000\n",
       "total_rec_int               0.000000\n",
       "total_pymnt_inv             0.000000\n",
       "id                          0.000000\n",
       "earliest_cr_line            0.000000\n",
       "home_ownership              0.000000\n",
       "loan_amnt                   0.000000\n",
       "funded_amnt                 0.000000\n",
       "funded_amnt_inv             0.000000\n",
       "term                        0.000000\n",
       "int_rate                    0.000000\n",
       "installment                 0.000000\n",
       "grade                       0.000000\n",
       "sub_grade                   0.000000\n",
       "annual_inc                  0.000000\n",
       "member_id                   0.000000\n",
       "verification_status         0.000000\n",
       "issue_d                     0.000000\n",
       "loan_status                 0.000000\n",
       "url                         0.000000\n",
       "purpose                     0.000000\n",
       "zip_code                    0.000000\n",
       "addr_state                  0.000000\n",
       "dti                         0.000000\n",
       "delinq_2yrs                 0.000000\n",
       "dtype: float64"
      ]
     },
     "execution_count": 9,
     "metadata": {},
     "output_type": "execute_result"
    }
   ],
   "source": [
    "(100*df.isnull().mean()).sort_values(ascending=False).head(50)"
   ]
  },
  {
   "cell_type": "code",
   "execution_count": 10,
   "id": "375c7096-0eff-458b-b47c-95785302a9a2",
   "metadata": {},
   "outputs": [],
   "source": [
    "# As our aim to find whether the person will default the loan or not. columns which denote the value after the loan processing are not required. Thus removing all columns\n",
    "\n",
    "df.drop(['delinq_2yrs','earliest_cr_line','inq_last_6mths','open_acc','pub_rec','revol_bal','revol_util','total_acc','out_prncp','out_prncp_inv','total_pymnt','total_pymnt_inv','total_rec_prncp','total_rec_int','total_rec_late_fee','recoveries','collection_recovery_fee','last_pymnt_d','last_pymnt_amnt','last_credit_pull_d','funded_amnt_inv','next_pymnt_d','mths_since_last_record','mths_since_last_delinq'],axis=1,inplace=True)\n",
    "\n",
    "df.drop([\"title\",\"emp_title\",\"desc\",\"url\",\"zip_code\",\"member_id\"],axis=1,inplace=True)\n"
   ]
  },
  {
   "cell_type": "code",
   "execution_count": 11,
   "id": "75fe9b56-90af-4e84-bed2-83508c7a4c71",
   "metadata": {},
   "outputs": [
    {
     "data": {
      "text/plain": [
       "emp_length              1075\n",
       "pub_rec_bankruptcies     697\n",
       "annual_inc                 0\n",
       "dti                        0\n",
       "addr_state                 0\n",
       "purpose                    0\n",
       "loan_status                0\n",
       "issue_d                    0\n",
       "verification_status        0\n",
       "id                         0\n",
       "loan_amnt                  0\n",
       "sub_grade                  0\n",
       "grade                      0\n",
       "installment                0\n",
       "int_rate                   0\n",
       "term                       0\n",
       "funded_amnt                0\n",
       "home_ownership             0\n",
       "dtype: int64"
      ]
     },
     "execution_count": 11,
     "metadata": {},
     "output_type": "execute_result"
    }
   ],
   "source": [
    "(df.isnull().sum()).sort_values(ascending=False).head(50)"
   ]
  },
  {
   "cell_type": "code",
   "execution_count": 12,
   "id": "b56f6b60-38a2-445e-9887-aad1c14ebb9a",
   "metadata": {},
   "outputs": [],
   "source": [
    "# As emp_length is important and we can not fill the value, we need to remove the data which does not have value.\n",
    "\n",
    "df = df.loc[df[\"emp_length\"].notnull()]"
   ]
  },
  {
   "cell_type": "code",
   "execution_count": 13,
   "id": "81c97d8a-5554-4f2b-9361-7407ae6e487d",
   "metadata": {},
   "outputs": [
    {
     "data": {
      "text/plain": [
       "pub_rec_bankruptcies\n",
       "0.0    36375\n",
       "1.0     1563\n",
       "2.0        7\n",
       "Name: count, dtype: int64"
      ]
     },
     "execution_count": 13,
     "metadata": {},
     "output_type": "execute_result"
    }
   ],
   "source": [
    "df[\"pub_rec_bankruptcies\"].value_counts()"
   ]
  },
  {
   "cell_type": "code",
   "execution_count": 14,
   "id": "a66871a5-d050-4ddf-86fe-3fe287cc7163",
   "metadata": {},
   "outputs": [],
   "source": [
    "df[\"pub_rec_bankruptcies\"] = df[\"pub_rec_bankruptcies\"].fillna(0)"
   ]
  },
  {
   "cell_type": "code",
   "execution_count": 15,
   "id": "762a1895-f2f3-45d5-ae49-b6b3a58dc592",
   "metadata": {},
   "outputs": [
    {
     "data": {
      "text/plain": [
       "id                      0\n",
       "loan_amnt               0\n",
       "dti                     0\n",
       "addr_state              0\n",
       "purpose                 0\n",
       "loan_status             0\n",
       "issue_d                 0\n",
       "verification_status     0\n",
       "annual_inc              0\n",
       "home_ownership          0\n",
       "emp_length              0\n",
       "sub_grade               0\n",
       "grade                   0\n",
       "installment             0\n",
       "int_rate                0\n",
       "term                    0\n",
       "funded_amnt             0\n",
       "pub_rec_bankruptcies    0\n",
       "dtype: int64"
      ]
     },
     "execution_count": 15,
     "metadata": {},
     "output_type": "execute_result"
    }
   ],
   "source": [
    "(df.isnull().sum()).sort_values(ascending=False).head(50)"
   ]
  },
  {
   "cell_type": "code",
   "execution_count": 16,
   "id": "ee4d801e-b8d6-43a8-a445-72eabb392604",
   "metadata": {},
   "outputs": [
    {
     "data": {
      "text/plain": [
       "id                        int64\n",
       "loan_amnt                 int64\n",
       "funded_amnt               int64\n",
       "term                     object\n",
       "int_rate                 object\n",
       "installment             float64\n",
       "grade                    object\n",
       "sub_grade                object\n",
       "emp_length               object\n",
       "home_ownership           object\n",
       "annual_inc              float64\n",
       "verification_status      object\n",
       "issue_d                  object\n",
       "loan_status              object\n",
       "purpose                  object\n",
       "addr_state               object\n",
       "dti                     float64\n",
       "pub_rec_bankruptcies    float64\n",
       "dtype: object"
      ]
     },
     "execution_count": 16,
     "metadata": {},
     "output_type": "execute_result"
    }
   ],
   "source": [
    "# Checking the Data types of column\n",
    "df.dtypes"
   ]
  },
  {
   "cell_type": "code",
   "execution_count": 17,
   "id": "8cf4d395-cdb4-4377-86fe-8df44005b9bc",
   "metadata": {},
   "outputs": [
    {
     "data": {
      "text/html": [
       "<div>\n",
       "<style scoped>\n",
       "    .dataframe tbody tr th:only-of-type {\n",
       "        vertical-align: middle;\n",
       "    }\n",
       "\n",
       "    .dataframe tbody tr th {\n",
       "        vertical-align: top;\n",
       "    }\n",
       "\n",
       "    .dataframe thead th {\n",
       "        text-align: right;\n",
       "    }\n",
       "</style>\n",
       "<table border=\"1\" class=\"dataframe\">\n",
       "  <thead>\n",
       "    <tr style=\"text-align: right;\">\n",
       "      <th></th>\n",
       "      <th>id</th>\n",
       "      <th>loan_amnt</th>\n",
       "      <th>funded_amnt</th>\n",
       "      <th>term</th>\n",
       "      <th>int_rate</th>\n",
       "      <th>installment</th>\n",
       "      <th>grade</th>\n",
       "      <th>sub_grade</th>\n",
       "      <th>emp_length</th>\n",
       "      <th>home_ownership</th>\n",
       "      <th>annual_inc</th>\n",
       "      <th>verification_status</th>\n",
       "      <th>issue_d</th>\n",
       "      <th>loan_status</th>\n",
       "      <th>purpose</th>\n",
       "      <th>addr_state</th>\n",
       "      <th>dti</th>\n",
       "      <th>pub_rec_bankruptcies</th>\n",
       "    </tr>\n",
       "  </thead>\n",
       "  <tbody>\n",
       "    <tr>\n",
       "      <th>0</th>\n",
       "      <td>1077501</td>\n",
       "      <td>5000</td>\n",
       "      <td>5000</td>\n",
       "      <td>36 months</td>\n",
       "      <td>10.65%</td>\n",
       "      <td>162.87</td>\n",
       "      <td>B</td>\n",
       "      <td>B2</td>\n",
       "      <td>10+ years</td>\n",
       "      <td>RENT</td>\n",
       "      <td>24000.0</td>\n",
       "      <td>Verified</td>\n",
       "      <td>Dec-11</td>\n",
       "      <td>Fully Paid</td>\n",
       "      <td>credit_card</td>\n",
       "      <td>AZ</td>\n",
       "      <td>27.65</td>\n",
       "      <td>0.0</td>\n",
       "    </tr>\n",
       "    <tr>\n",
       "      <th>1</th>\n",
       "      <td>1077430</td>\n",
       "      <td>2500</td>\n",
       "      <td>2500</td>\n",
       "      <td>60 months</td>\n",
       "      <td>15.27%</td>\n",
       "      <td>59.83</td>\n",
       "      <td>C</td>\n",
       "      <td>C4</td>\n",
       "      <td>&lt; 1 year</td>\n",
       "      <td>RENT</td>\n",
       "      <td>30000.0</td>\n",
       "      <td>Source Verified</td>\n",
       "      <td>Dec-11</td>\n",
       "      <td>Charged Off</td>\n",
       "      <td>car</td>\n",
       "      <td>GA</td>\n",
       "      <td>1.00</td>\n",
       "      <td>0.0</td>\n",
       "    </tr>\n",
       "    <tr>\n",
       "      <th>2</th>\n",
       "      <td>1077175</td>\n",
       "      <td>2400</td>\n",
       "      <td>2400</td>\n",
       "      <td>36 months</td>\n",
       "      <td>15.96%</td>\n",
       "      <td>84.33</td>\n",
       "      <td>C</td>\n",
       "      <td>C5</td>\n",
       "      <td>10+ years</td>\n",
       "      <td>RENT</td>\n",
       "      <td>12252.0</td>\n",
       "      <td>Not Verified</td>\n",
       "      <td>Dec-11</td>\n",
       "      <td>Fully Paid</td>\n",
       "      <td>small_business</td>\n",
       "      <td>IL</td>\n",
       "      <td>8.72</td>\n",
       "      <td>0.0</td>\n",
       "    </tr>\n",
       "    <tr>\n",
       "      <th>3</th>\n",
       "      <td>1076863</td>\n",
       "      <td>10000</td>\n",
       "      <td>10000</td>\n",
       "      <td>36 months</td>\n",
       "      <td>13.49%</td>\n",
       "      <td>339.31</td>\n",
       "      <td>C</td>\n",
       "      <td>C1</td>\n",
       "      <td>10+ years</td>\n",
       "      <td>RENT</td>\n",
       "      <td>49200.0</td>\n",
       "      <td>Source Verified</td>\n",
       "      <td>Dec-11</td>\n",
       "      <td>Fully Paid</td>\n",
       "      <td>other</td>\n",
       "      <td>CA</td>\n",
       "      <td>20.00</td>\n",
       "      <td>0.0</td>\n",
       "    </tr>\n",
       "    <tr>\n",
       "      <th>4</th>\n",
       "      <td>1075358</td>\n",
       "      <td>3000</td>\n",
       "      <td>3000</td>\n",
       "      <td>60 months</td>\n",
       "      <td>12.69%</td>\n",
       "      <td>67.79</td>\n",
       "      <td>B</td>\n",
       "      <td>B5</td>\n",
       "      <td>1 year</td>\n",
       "      <td>RENT</td>\n",
       "      <td>80000.0</td>\n",
       "      <td>Source Verified</td>\n",
       "      <td>Dec-11</td>\n",
       "      <td>Current</td>\n",
       "      <td>other</td>\n",
       "      <td>OR</td>\n",
       "      <td>17.94</td>\n",
       "      <td>0.0</td>\n",
       "    </tr>\n",
       "  </tbody>\n",
       "</table>\n",
       "</div>"
      ],
      "text/plain": [
       "        id  loan_amnt  funded_amnt        term int_rate  installment grade  \\\n",
       "0  1077501       5000         5000   36 months   10.65%       162.87     B   \n",
       "1  1077430       2500         2500   60 months   15.27%        59.83     C   \n",
       "2  1077175       2400         2400   36 months   15.96%        84.33     C   \n",
       "3  1076863      10000        10000   36 months   13.49%       339.31     C   \n",
       "4  1075358       3000         3000   60 months   12.69%        67.79     B   \n",
       "\n",
       "  sub_grade emp_length home_ownership  annual_inc verification_status issue_d  \\\n",
       "0        B2  10+ years           RENT     24000.0            Verified  Dec-11   \n",
       "1        C4   < 1 year           RENT     30000.0     Source Verified  Dec-11   \n",
       "2        C5  10+ years           RENT     12252.0        Not Verified  Dec-11   \n",
       "3        C1  10+ years           RENT     49200.0     Source Verified  Dec-11   \n",
       "4        B5     1 year           RENT     80000.0     Source Verified  Dec-11   \n",
       "\n",
       "   loan_status         purpose addr_state    dti  pub_rec_bankruptcies  \n",
       "0   Fully Paid     credit_card         AZ  27.65                   0.0  \n",
       "1  Charged Off             car         GA   1.00                   0.0  \n",
       "2   Fully Paid  small_business         IL   8.72                   0.0  \n",
       "3   Fully Paid           other         CA  20.00                   0.0  \n",
       "4      Current           other         OR  17.94                   0.0  "
      ]
     },
     "execution_count": 17,
     "metadata": {},
     "output_type": "execute_result"
    }
   ],
   "source": [
    "df.head()"
   ]
  },
  {
   "cell_type": "code",
   "execution_count": 18,
   "id": "36905979-a26f-4539-b1d1-88469cfbcee2",
   "metadata": {},
   "outputs": [],
   "source": [
    "df = df.loc[df[\"loan_status\"]!=\"Current\"]"
   ]
  },
  {
   "cell_type": "code",
   "execution_count": 19,
   "id": "800ee3d9-8018-404e-9b01-8423762c29b8",
   "metadata": {},
   "outputs": [],
   "source": [
    "# We saw that several columns are in object format, we need to clean those column values to numeric for analysis\n",
    "def clean_numbers(x):\n",
    "    matches = re.compile(r'([\\d.]+)').findall(str(x))\n",
    "    if len(matches)>0:\n",
    "        return float(matches[0])\n",
    "    else:\n",
    "        return 0"
   ]
  },
  {
   "cell_type": "code",
   "execution_count": null,
   "id": "15cb39c1-4a2d-4eaa-bb71-0143ca20d241",
   "metadata": {},
   "outputs": [],
   "source": [
    "df[['term','int_rate','emp_length']] = df[['term','int_rate','emp_length']].apply(lambda x: x.apply(clean_numbers),axis=1 )"
   ]
  },
  {
   "cell_type": "code",
   "execution_count": null,
   "id": "c034d777-653a-40fc-830c-8d7c7329ea3f",
   "metadata": {},
   "outputs": [],
   "source": [
    "df.dtypes"
   ]
  },
  {
   "cell_type": "code",
   "execution_count": null,
   "id": "4c1c08da-6eb0-46be-be7e-964b9edf025c",
   "metadata": {},
   "outputs": [],
   "source": [
    "# Derived Columns\n",
    "# Creating New columns for year and month for issue_date\n",
    "df[\"issue_month\"] = df[\"issue_d\"].str.split(\"-\").str[0]\n",
    "df[\"issue_year\"] = (\"20\" + df[\"issue_d\"].str.split(\"-\").str[1]).astype(int)"
   ]
  },
  {
   "cell_type": "code",
   "execution_count": null,
   "id": "24204536-ae3a-4034-bc02-2725d366e2be",
   "metadata": {},
   "outputs": [],
   "source": [
    "cat_cols = [\"installment\",\"grade\",\"sub_grade\",\"emp_length\",\"home_ownership\",\"verification_status\",\"purpose\",\"issue_month\",\"issue_year\",\"term\",\"pub_rec_bankruptcies\"]\n",
    "num_cols = [\"loan_amnt\",\"int_rate\",\"annual_inc\",\"dti\"]\n",
    "result_cols = [\"loan_status\"]"
   ]
  },
  {
   "cell_type": "markdown",
   "id": "f64427b8-7bdf-4178-a926-67fec0e9d9d9",
   "metadata": {},
   "source": [
    "## Univariate Analysis of Numerical Columns"
   ]
  },
  {
   "cell_type": "code",
   "execution_count": null,
   "id": "105e840d-b59b-456c-a61c-ca14f73a8aba",
   "metadata": {},
   "outputs": [],
   "source": [
    "sns.boxplot(data=df,x=\"loan_amnt\")\n",
    "plt.show()"
   ]
  },
  {
   "cell_type": "code",
   "execution_count": null,
   "id": "985f024e-bde4-422c-a782-1805bdc4104a",
   "metadata": {},
   "outputs": [],
   "source": [
    "sns.boxplot(data=df,x=\"int_rate\")\n",
    "plt.show()"
   ]
  },
  {
   "cell_type": "code",
   "execution_count": null,
   "id": "83da502a-e6aa-4f98-95dd-4882ccb88fe9",
   "metadata": {},
   "outputs": [],
   "source": [
    "sns.boxplot(data=df,x=\"annual_inc\")\n",
    "plt.show()"
   ]
  },
  {
   "cell_type": "code",
   "execution_count": null,
   "id": "7d6353b1-b53a-4c55-b3a0-24974bd01f4c",
   "metadata": {},
   "outputs": [],
   "source": [
    "# As we can see there are outliers in this plot, we need to remove it.\n",
    "quantile_info = df[\"annual_inc\"].quantile([0.5, 0.75,0.90, 0.95,0.96, 0.97,0.98, 0.99])\n",
    "quantile_info"
   ]
  },
  {
   "cell_type": "code",
   "execution_count": null,
   "id": "694b830f-2e73-4672-8809-28b4e2df004c",
   "metadata": {},
   "outputs": [],
   "source": [
    "# Removing the data greater than 98% quartile\n",
    "per_98_q = df['annual_inc'].quantile(0.98)\n",
    "df = df[df[\"annual_inc\"] <= per_98_q]\n",
    "\n",
    "sns.boxplot(data=df,x=\"annual_inc\")\n",
    "plt.show()"
   ]
  },
  {
   "cell_type": "code",
   "execution_count": null,
   "id": "3fd02d86-a51b-45ef-8a44-972d1d94abf3",
   "metadata": {},
   "outputs": [],
   "source": [
    "sns.boxplot(data=df,x=\"dti\")\n",
    "plt.show()"
   ]
  },
  {
   "cell_type": "markdown",
   "id": "1188bd25-5ee1-43b1-ae18-e0c4829509c1",
   "metadata": {},
   "source": [
    "## Univariate Analysis of Categorical Columns"
   ]
  },
  {
   "cell_type": "code",
   "execution_count": null,
   "id": "71dbd031-5052-4c8a-963f-28e49d0fba96",
   "metadata": {},
   "outputs": [],
   "source": [
    "sns.histplot(data=df,x=\"installment\")\n",
    "plt.show()"
   ]
  },
  {
   "cell_type": "code",
   "execution_count": null,
   "id": "c2003645-464b-43ed-9e11-f3952e6a875f",
   "metadata": {},
   "outputs": [],
   "source": [
    "sns.histplot(data=df,x=\"grade\")\n",
    "plt.show()"
   ]
  },
  {
   "cell_type": "code",
   "execution_count": null,
   "id": "883971ee-90d5-431c-b7ec-c14d5fc94db6",
   "metadata": {},
   "outputs": [],
   "source": [
    "plt.figure(figsize=(15,6))\n",
    "sns.histplot(data=df,x=\"sub_grade\")\n",
    "plt.show()"
   ]
  },
  {
   "cell_type": "code",
   "execution_count": null,
   "id": "53bfdae1-983e-485b-a872-94c0a9482f97",
   "metadata": {},
   "outputs": [],
   "source": [
    "sns.histplot(data=df,x=\"emp_length\")\n",
    "plt.show()"
   ]
  },
  {
   "cell_type": "code",
   "execution_count": null,
   "id": "3aa44cad-9af6-4fde-b569-af194f5333ac",
   "metadata": {},
   "outputs": [],
   "source": [
    "sns.histplot(data=df,x=\"home_ownership\")\n",
    "plt.show()"
   ]
  },
  {
   "cell_type": "code",
   "execution_count": null,
   "id": "74aa1d9e-d3e9-45da-850d-0bdee047894d",
   "metadata": {},
   "outputs": [],
   "source": [
    "sns.histplot(data=df,x=\"verification_status\")\n",
    "plt.show()"
   ]
  },
  {
   "cell_type": "code",
   "execution_count": null,
   "id": "c2187667-2381-41fe-b7bc-c259f2dada45",
   "metadata": {},
   "outputs": [],
   "source": [
    "plt.figure(figsize=(10,6))\n",
    "sns.histplot(data=df,x=\"purpose\")\n",
    "plt.xticks(rotation='vertical')\n",
    "plt.show()"
   ]
  },
  {
   "cell_type": "code",
   "execution_count": null,
   "id": "74a224b2-7d02-4c8b-852b-3ed2bdaa0b75",
   "metadata": {},
   "outputs": [],
   "source": [
    "sns.histplot(data=df,x=\"issue_month\")\n",
    "plt.show()"
   ]
  },
  {
   "cell_type": "code",
   "execution_count": null,
   "id": "a63ceefe-6518-49b2-a879-9304dae383a6",
   "metadata": {},
   "outputs": [],
   "source": [
    "sns.histplot(data=df,x=\"issue_year\")\n",
    "\n",
    "plt.show()"
   ]
  },
  {
   "cell_type": "code",
   "execution_count": null,
   "id": "9762462f-0e8b-4cb3-8141-ceab689d36ef",
   "metadata": {},
   "outputs": [],
   "source": [
    "sns.countplot(data=df,x=\"term\")\n",
    "plt.show()"
   ]
  },
  {
   "cell_type": "code",
   "execution_count": null,
   "id": "991e6901-580c-4b5c-86c6-8d3c66cdd488",
   "metadata": {},
   "outputs": [],
   "source": [
    "sns.countplot(data=df,x=\"pub_rec_bankruptcies\")\n",
    "plt.show()"
   ]
  },
  {
   "cell_type": "markdown",
   "id": "3cde7d34-4ae8-4a0c-920f-b3889202cb9e",
   "metadata": {},
   "source": [
    "## Analysis of MultiVariate Analysis"
   ]
  },
  {
   "cell_type": "code",
   "execution_count": null,
   "id": "da061525-a5d9-4f72-b306-72d3e053cab9",
   "metadata": {},
   "outputs": [],
   "source": [
    "sns.histplot(data=df.loc[df[\"loan_status\"]==\"Charged Off\"], x=\"loan_amnt\",bins=5)\n",
    "plt.show()"
   ]
  },
  {
   "cell_type": "code",
   "execution_count": null,
   "id": "1ebddbb4-b1e7-49d5-bce7-4aea880ab898",
   "metadata": {},
   "outputs": [],
   "source": [
    "sns.histplot(data=df.loc[df[\"loan_status\"]==\"Charged Off\"], x=\"grade\")\n",
    "plt.show()"
   ]
  },
  {
   "cell_type": "code",
   "execution_count": null,
   "id": "d7bf4bf0-c3e0-4972-9dbc-a26348b65277",
   "metadata": {},
   "outputs": [],
   "source": [
    "sns.histplot(data=df.loc[df[\"loan_status\"]==\"Charged Off\"], x=\"emp_length\")\n",
    "plt.show()"
   ]
  },
  {
   "cell_type": "code",
   "execution_count": null,
   "id": "a2f579b1-181e-42d6-b090-059be591ec32",
   "metadata": {},
   "outputs": [],
   "source": [
    "sns.histplot(data=df.loc[df[\"loan_status\"]==\"Charged Off\"], x=\"home_ownership\")\n",
    "plt.show()"
   ]
  },
  {
   "cell_type": "code",
   "execution_count": null,
   "id": "248838d6-c953-46ca-99b5-3689d5a2c1b7",
   "metadata": {},
   "outputs": [],
   "source": [
    "sns.histplot(data=df.loc[df[\"loan_status\"]==\"Charged Off\"], x=\"verification_status\")\n",
    "plt.show()"
   ]
  },
  {
   "cell_type": "code",
   "execution_count": null,
   "id": "d5fb4092-63bc-48e9-8bda-68afee573223",
   "metadata": {},
   "outputs": [],
   "source": [
    "plt.figure(figsize=(10,6))\n",
    "sns.histplot(data=df.loc[df[\"loan_status\"]==\"Charged Off\"], x=\"purpose\")\n",
    "plt.xticks(rotation='vertical')\n",
    "plt.show()"
   ]
  },
  {
   "cell_type": "code",
   "execution_count": null,
   "id": "97e5e80d-34a3-4ef4-8ec9-1334a713c720",
   "metadata": {},
   "outputs": [],
   "source": [
    "plt.figure(figsize=(10,6))\n",
    "sns.histplot(data=df.loc[df[\"loan_status\"]==\"Charged Off\"], x=\"issue_month\")\n",
    "plt.xticks(rotation='vertical')\n",
    "plt.show()"
   ]
  },
  {
   "cell_type": "code",
   "execution_count": null,
   "id": "45218bea-067e-4a44-8679-ae2eb65e23ac",
   "metadata": {},
   "outputs": [],
   "source": [
    "plt.figure(figsize=(10,6))\n",
    "sns.histplot(data=df.loc[df[\"loan_status\"]==\"Charged Off\"], x=\"issue_year\")\n",
    "plt.show()"
   ]
  },
  {
   "cell_type": "code",
   "execution_count": null,
   "id": "3bd87690-1e7e-4743-ba31-036d903d5257",
   "metadata": {},
   "outputs": [],
   "source": [
    "plt.figure(figsize=(10,6))\n",
    "sns.countplot(data=df.loc[df[\"loan_status\"]==\"Charged Off\"], x=\"term\")\n",
    "plt.show()"
   ]
  },
  {
   "cell_type": "code",
   "execution_count": null,
   "id": "7f7d4d6f-3c1e-427c-9aae-6e2b4faeba90",
   "metadata": {},
   "outputs": [],
   "source": [
    "plt.figure(figsize=(10,6))\n",
    "sns.histplot(data=df.loc[df[\"loan_status\"]==\"Charged Off\"], x=\"dti\")\n",
    "plt.show()"
   ]
  },
  {
   "cell_type": "markdown",
   "id": "163fbc93-065e-4fe1-9694-31773e5ed671",
   "metadata": {},
   "source": [
    "## MultiVariate Analysis"
   ]
  },
  {
   "cell_type": "code",
   "execution_count": null,
   "id": "3b518bdf-882b-4341-9ee8-aedebf234eab",
   "metadata": {},
   "outputs": [],
   "source": [
    "\n",
    "plt.figure(figsize=(10,10))\n",
    "sns.heatmap(df[[\"loan_amnt\",\"term\",\"int_rate\",\"emp_length\",\"annual_inc\",\"dti\",\"issue_year\"]].corr(),annot=True)\n",
    "plt.show()"
   ]
  },
  {
   "cell_type": "markdown",
   "id": "5cd89df8-5ee5-456e-8d62-351eec38ef5d",
   "metadata": {},
   "source": [
    "## Insights\n",
    "\n",
    "### The major driving factors that can be used to predict the chance of defaulting and avoiding credit loss are \n",
    "- DTI (debt-to-income ratio) A higher DTI indicates a higher likelihood of default\n",
    "- Grades assigned by the lending company : Lower grades like E, F, G indicate higher risk and higher chance of default.\n",
    "- Verification status : Unverified applicants have a higher chance of defaulting compared to verified applicants.\n",
    "- Annual income : Lower annual income is associated with a higher probability of default.\n",
    "- Public record of bankruptcies : Applicants with public records of bankruptcies have a higher risk of defaulting.\n",
    "\n",
    "### Other important considerations for identifying potential defaults are:\n",
    "- Borrowers from large urban cities like California, New York, Texas, Florida, etc. tend to have a higher default rate.\n",
    "- Borrowers with annual income in the range of 50K to 100K are more likely to default.\n",
    "- Borrowers with longer employment tenure (10+ years) are less likely to default.\n",
    "- Loan amount : Higher loan amounts are correlated with a higher likelihood of default.\n",
    "- Loan term : Longer loan terms are associated with a higher probability of default.ility of default."
   ]
  },
  {
   "cell_type": "code",
   "execution_count": null,
   "id": "3cefc709-3dd0-431c-ae45-92390cb1327c",
   "metadata": {},
   "outputs": [],
   "source": []
  }
 ],
 "metadata": {
  "kernelspec": {
   "display_name": "Python 3 (ipykernel)",
   "language": "python",
   "name": "python3"
  },
  "language_info": {
   "codemirror_mode": {
    "name": "ipython",
    "version": 3
   },
   "file_extension": ".py",
   "mimetype": "text/x-python",
   "name": "python",
   "nbconvert_exporter": "python",
   "pygments_lexer": "ipython3",
   "version": "3.12.3"
  }
 },
 "nbformat": 4,
 "nbformat_minor": 5
}
